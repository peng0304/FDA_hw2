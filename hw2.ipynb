{
 "cells": [
  {
   "cell_type": "code",
   "execution_count": 1,
   "metadata": {},
   "outputs": [],
   "source": [
    "import pandas as pd\n",
    "import numpy as np\n",
    "import matplotlib.pyplot as plt\n",
    "from sklearn.tree import DecisionTreeClassifier\n",
    "from sklearn.externals.six import StringIO   \n",
    "from sklearn.tree import export_graphviz\n",
    "import pydotplus"
   ]
  },
  {
   "cell_type": "markdown",
   "metadata": {},
   "source": [
    "# Attribute\n",
    "- age\n",
    "- height\n",
    "- weight\n",
    "- point(集點點數)\n",
    "- times(買東西次數)"
   ]
  },
  {
   "cell_type": "markdown",
   "metadata": {},
   "source": [
    "# Rule\n",
    "- if age > 60 buy\n",
    "- if height < 160 and weight >70 buy\n",
    "- if point > 100 buy\n",
    "- if times > 10 buy"
   ]
  },
  {
   "cell_type": "markdown",
   "metadata": {},
   "source": [
    "# Generate data"
   ]
  },
  {
   "cell_type": "code",
   "execution_count": 25,
   "metadata": {},
   "outputs": [],
   "source": [
    "import random as rd\n",
    "import csv\n",
    "\n",
    "with open('./buy.csv', 'w') as csvFile:\n",
    "    write = csv.writer(csvFile)\n",
    "    write.writerow(['age', 'height', 'weight','point','times','buy'])\n",
    "\n",
    "def generate_data():\n",
    "    age = rd.randint(20, 80)\n",
    "    height = rd.randint(140, 185)\n",
    "    weight = rd.randint(40, 100)\n",
    "    point = rd.randint(0, 300)\n",
    "    times = rd.randint(0, 20)\n",
    "    buy = 0\n",
    "    \n",
    "    if height < 160.0 and weight >  70.0:\n",
    "        buy = 1\n",
    "    if age > 60:\n",
    "        buy = 1\n",
    "    if point > 100:\n",
    "        buy = 1\n",
    "    if times > 10:\n",
    "        buy = 1\n",
    "    \n",
    "    row = [age, height, weight, point, times,buy]\n",
    "\n",
    "    with open('./buy.csv', 'a') as csvFile:\n",
    "        writer = csv.writer(csvFile)\n",
    "        writer.writerow(row)\n",
    "        \n",
    "for i in range(10000):\n",
    "    generate_data()"
   ]
  },
  {
   "cell_type": "markdown",
   "metadata": {},
   "source": [
    "# Read data"
   ]
  },
  {
   "cell_type": "code",
   "execution_count": 26,
   "metadata": {},
   "outputs": [
    {
     "data": {
      "text/html": [
       "<div>\n",
       "<style scoped>\n",
       "    .dataframe tbody tr th:only-of-type {\n",
       "        vertical-align: middle;\n",
       "    }\n",
       "\n",
       "    .dataframe tbody tr th {\n",
       "        vertical-align: top;\n",
       "    }\n",
       "\n",
       "    .dataframe thead th {\n",
       "        text-align: right;\n",
       "    }\n",
       "</style>\n",
       "<table border=\"1\" class=\"dataframe\">\n",
       "  <thead>\n",
       "    <tr style=\"text-align: right;\">\n",
       "      <th></th>\n",
       "      <th>age</th>\n",
       "      <th>height</th>\n",
       "      <th>weight</th>\n",
       "      <th>point</th>\n",
       "      <th>times</th>\n",
       "      <th>buy</th>\n",
       "    </tr>\n",
       "  </thead>\n",
       "  <tbody>\n",
       "    <tr>\n",
       "      <th>0</th>\n",
       "      <td>23</td>\n",
       "      <td>170</td>\n",
       "      <td>77</td>\n",
       "      <td>174</td>\n",
       "      <td>3</td>\n",
       "      <td>1</td>\n",
       "    </tr>\n",
       "    <tr>\n",
       "      <th>1</th>\n",
       "      <td>21</td>\n",
       "      <td>159</td>\n",
       "      <td>68</td>\n",
       "      <td>58</td>\n",
       "      <td>7</td>\n",
       "      <td>0</td>\n",
       "    </tr>\n",
       "    <tr>\n",
       "      <th>2</th>\n",
       "      <td>55</td>\n",
       "      <td>145</td>\n",
       "      <td>94</td>\n",
       "      <td>82</td>\n",
       "      <td>16</td>\n",
       "      <td>1</td>\n",
       "    </tr>\n",
       "    <tr>\n",
       "      <th>3</th>\n",
       "      <td>39</td>\n",
       "      <td>146</td>\n",
       "      <td>55</td>\n",
       "      <td>268</td>\n",
       "      <td>4</td>\n",
       "      <td>1</td>\n",
       "    </tr>\n",
       "    <tr>\n",
       "      <th>4</th>\n",
       "      <td>22</td>\n",
       "      <td>149</td>\n",
       "      <td>40</td>\n",
       "      <td>10</td>\n",
       "      <td>10</td>\n",
       "      <td>0</td>\n",
       "    </tr>\n",
       "  </tbody>\n",
       "</table>\n",
       "</div>"
      ],
      "text/plain": [
       "   age  height  weight  point  times  buy\n",
       "0   23     170      77    174      3    1\n",
       "1   21     159      68     58      7    0\n",
       "2   55     145      94     82     16    1\n",
       "3   39     146      55    268      4    1\n",
       "4   22     149      40     10     10    0"
      ]
     },
     "execution_count": 26,
     "metadata": {},
     "output_type": "execute_result"
    }
   ],
   "source": [
    "data = pd.read_csv('./buy.csv')\n",
    "data.head()"
   ]
  },
  {
   "cell_type": "code",
   "execution_count": 27,
   "metadata": {},
   "outputs": [
    {
     "data": {
      "text/plain": [
       "True"
      ]
     },
     "execution_count": 27,
     "metadata": {},
     "output_type": "execute_result"
    }
   ],
   "source": [
    "data_train_y = data[\"buy\"].values\n",
    "data_train = data.drop(\"buy\", axis=1)\n",
    "dtree=DecisionTreeClassifier()\n",
    "dtree.fit(data_train, data_train_y)\n",
    "\n",
    "dot_data = StringIO()\n",
    "export_graphviz(dtree, out_file=dot_data,  filled=True, feature_names=list(df_train),class_names=['not buy','buy'],special_characters=True)\n",
    "result = pydotplus.graph_from_dot_data(dot_data.getvalue())  \n",
    "result.write_pdf(\"tree.pdf\")"
   ]
  },
  {
   "cell_type": "markdown",
   "metadata": {},
   "source": [
    "# Decision tree 結果\n",
    "- point>100.5 buy\n",
    "- times>10.5 buy\n",
    "- age >60.5 buy\n",
    "- height>159.5 not buy\n",
    "- height<=159.5 and weight>70.5 buy"
   ]
  },
  {
   "cell_type": "markdown",
   "metadata": {},
   "source": [
    "# My rule\n",
    "- if age > 60 buy\n",
    "- if height < 160 and weight >70 buy\n",
    "- if point > 100 buy\n",
    "- if times > 10 buy"
   ]
  },
  {
   "cell_type": "markdown",
   "metadata": {},
   "source": [
    "# 討論\n",
    "- decision tree之結果跟我設定的rule結果相差不大，唯一的差別在於他有小數點，而我的資料都是整數\n",
    "- 在age、point、times三個attribute裡的結果都會符合我設定的rule，不過在身高(height)方面可能會有點誤差\n",
    "- height大於159.5並不一定會大於160"
   ]
  },
  {
   "cell_type": "code",
   "execution_count": null,
   "metadata": {},
   "outputs": [],
   "source": []
  }
 ],
 "metadata": {
  "kernelspec": {
   "display_name": "Python 3",
   "language": "python",
   "name": "python3"
  },
  "language_info": {
   "codemirror_mode": {
    "name": "ipython",
    "version": 3
   },
   "file_extension": ".py",
   "mimetype": "text/x-python",
   "name": "python",
   "nbconvert_exporter": "python",
   "pygments_lexer": "ipython3",
   "version": "3.7.1"
  }
 },
 "nbformat": 4,
 "nbformat_minor": 2
}
